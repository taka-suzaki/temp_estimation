{
 "cells": [
  {
   "cell_type": "code",
   "execution_count": 1,
   "metadata": {},
   "outputs": [],
   "source": [
    "import os\n",
    "import shutil"
   ]
  },
  {
   "cell_type": "code",
   "execution_count": 53,
   "metadata": {},
   "outputs": [],
   "source": [
    "img_dir = './datasets/temp64/'\n",
    "ann_dir = './datasets/yolov3_detection/annotations1006/'\n",
    "save_dir = './darknet/cfg/temp1006/'\n",
    "\n",
    "datasets_dir=save_dir+'datasets/'\n",
    "\n",
    "train_dir = './tmp2imgColor128/trainA/'\n",
    "val_dir = './tmp2imgColor128/valA/'\n",
    "test_dir = './tmp2imgColor128/testA/'\n",
    "\n",
    "img_train_dir = '/content/temp_estimation/darknet/cfg/temp1006/datasets/'\n",
    "img_test_dir = '/content/temp_estimation/darknet/cfg/temp1006/datasets/'"
   ]
  },
  {
   "cell_type": "code",
   "execution_count": 57,
   "metadata": {},
   "outputs": [
    {
     "name": "stdout",
     "output_type": "stream",
     "text": [
      "image:  1598603070.jpg 1578\n",
      "annotaion: 1598605729.txt 1148\n",
      "train: 1598603070.jpg 1262\n",
      "val: 1598609575.jpg 158\n",
      "test: 1598608455.jpg 158\n"
     ]
    }
   ],
   "source": [
    "images = [f for f in os.listdir(img_dir) if f.endswith('.jpg')]\n",
    "annotations = [f for f in os.listdir(ann_dir) if f.endswith('.txt')]\n",
    "\n",
    "pre_trains = [f for f in os.listdir(train_dir) if f.endswith('.jpg')]\n",
    "vals = [f for f in os.listdir(val_dir) if f.endswith('.jpg')]\n",
    "tests = [f for f in os.listdir(test_dir) if f.endswith('.jpg')]\n",
    "\n",
    "trains = pre_trains \n",
    "\n",
    "print('image: ', images[0], len(images))\n",
    "print('annotaion:', annotations[0], len(annotations))\n",
    "print('train:', pre_trains[0], len(pre_trains))\n",
    "print('val:', vals[0], len(vals))\n",
    "\n",
    "# print('train2:', trains[0], len(trains))\n",
    "print('test:', tests[0], len(tests))\n",
    "tests = vals"
   ]
  },
  {
   "cell_type": "code",
   "execution_count": 43,
   "metadata": {},
   "outputs": [
    {
     "data": {
      "text/plain": [
       "'./datasets/temp64/1598603070.jpg'"
      ]
     },
     "execution_count": 43,
     "metadata": {},
     "output_type": "execute_result"
    }
   ],
   "source": [
    "img_train_dir + 'datasets/' + images[0]\n",
    "ann_dir+ images[0].split('.jpg')[0]+'.txt'\n",
    "img_dir+images[0]"
   ]
  },
  {
   "cell_type": "code",
   "execution_count": 61,
   "metadata": {},
   "outputs": [],
   "source": [
    "tre_cnt = 0\n",
    "with open(save_dir+'train.txt', 'w') as f:\n",
    "    for image in trains:\n",
    "        imagePath = img_train_dir  + image + ' \\n'\n",
    "        f.write(imagePath)\n",
    "#         copypath = datasets_dir + 'train/'\n",
    "        copypath = datasets_dir\n",
    "        \n",
    "        shutil.copy2(img_dir+image, copypath)\n",
    "        \n",
    "        filename = image.split('.jpg')[0]\n",
    "        if (os.path.isfile(ann_dir+filename+'.txt')):\n",
    "            shutil.copy2(ann_dir+filename+'.txt', copypath)\n",
    "            \n",
    "            tre_cnt+=1\n",
    "\n",
    "test_cnt = 0\n",
    "with open(save_dir+'test.txt', 'w') as f:\n",
    "    for image in tests:\n",
    "        imagePath = img_test_dir + image +'\\n'\n",
    "        \n",
    "        f.write(imagePath)\n",
    "        copypath = datasets_dir\n",
    "        shutil.copy2(img_dir+image, copypath)\n",
    "        \n",
    "        filename = image.split('.jpg')[0]\n",
    "        if (os.path.isfile(ann_dir+filename+'.txt')):\n",
    "            shutil.copy2(ann_dir+filename+'.txt', copypath)\n",
    "            \n",
    "            test_cnt+=1"
   ]
  },
  {
   "cell_type": "code",
   "execution_count": 60,
   "metadata": {},
   "outputs": [
    {
     "name": "stdout",
     "output_type": "stream",
     "text": [
      "train: 4 1035 1262\n",
      "test: 271 113 158\n"
     ]
    }
   ],
   "source": [
    "print('train:', len(os.listdir(datasets_dir)), tre_cnt, len(trains))\n",
    "print('test:', len(os.listdir(datasets_dir+'test/')), test_cnt, len(tests))"
   ]
  },
  {
   "cell_type": "code",
   "execution_count": 39,
   "metadata": {},
   "outputs": [
    {
     "name": "stdout",
     "output_type": "stream",
     "text": [
      "rm: ./darknet/cfg/temp1006/datasets/train/*: No such file or directory\r\n"
     ]
    }
   ],
   "source": [
    "# t = datasets_dir+'train/'\n",
    "# !rm $t*"
   ]
  },
  {
   "cell_type": "code",
   "execution_count": null,
   "metadata": {},
   "outputs": [],
   "source": []
  }
 ],
 "metadata": {
  "kernelspec": {
   "display_name": "Python 3",
   "language": "python",
   "name": "python3"
  },
  "language_info": {
   "codemirror_mode": {
    "name": "ipython",
    "version": 3
   },
   "file_extension": ".py",
   "mimetype": "text/x-python",
   "name": "python",
   "nbconvert_exporter": "python",
   "pygments_lexer": "ipython3",
   "version": "3.7.3"
  }
 },
 "nbformat": 4,
 "nbformat_minor": 4
}
