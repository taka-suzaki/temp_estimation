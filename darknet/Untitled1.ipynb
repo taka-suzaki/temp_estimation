{
 "cells": [
  {
   "cell_type": "code",
   "execution_count": 3,
   "metadata": {},
   "outputs": [],
   "source": [
    "import os\n",
    "import cv2\n",
    "import matplotlib.pyplot as plt\n",
    "%matplotlib inline\n",
    "%pwd\n",
    "import darknet"
   ]
  },
  {
   "cell_type": "code",
   "execution_count": 4,
   "metadata": {},
   "outputs": [],
   "source": [
    "def disp_box(imagePath, boxes):\n",
    "    cfg = './cfg/temp0922/yolov3-temp0925.cfg'\n",
    "    weights = '/Users/suzaki/Sotuken/face_picture_and_tempmap/darknet/cfg/temp0922/backup/yolov3-temp0925_33000.weights'\n",
    "    data = './cfg/temp0922/datasets.data'\n",
    "    \n",
    "    img = cv2.cvtColor(cv2.imread(imagePath), cv2.COLOR_BGR2RGB)\n",
    "    for b in boxes:\n",
    "        box = b[2]\n",
    "        if b[1] > 0.8:\n",
    "            center = (int(box[0]), int(box[1]))\n",
    "            width = int(box[2])\n",
    "            height = int(box[3])\n",
    "\n",
    "            top_left = (center[0]-(width//2), center[1]-(height//2))\n",
    "            btm_right = (center[0]+(width//2), center[1]+(height//2))\n",
    "\n",
    "        #     top_left = (int(box[0]), int(box[1]))\n",
    "        #     btm_right = (int(box[0]+box[2]), int(box[1]+box[3]))\n",
    "            img = cv2.rectangle(img,top_left,btm_right,(0,255,0),1)\n",
    "    plt.imshow(img)"
   ]
  },
  {
   "cell_type": "code",
   "execution_count": 5,
   "metadata": {},
   "outputs": [
    {
     "name": "stdout",
     "output_type": "stream",
     "text": [
      "1578\n"
     ]
    },
    {
     "data": {
      "text/plain": [
       "['yolov3-temp0925_33000.weights',\n",
       " 'yolov3-voc_100.weights',\n",
       " 'yolov3-temp0925_10000.weights',\n",
       " 'yolov3-voc_700.weights',\n",
       " 'yolov3-voc_600.weights',\n",
       " 'yolov3-voc_300.weights',\n",
       " 'yolov3-voc_800.weights',\n",
       " 'yolov3-voc.backup',\n",
       " 'yolov3-voc_500.weights',\n",
       " 'yolov3-voc_200.weights',\n",
       " 'yolov3-voc_900.weights',\n",
       " 'yolov3-voc_400.weights']"
      ]
     },
     "execution_count": 5,
     "metadata": {},
     "output_type": "execute_result"
    }
   ],
   "source": [
    "img_list = [f for f in os.listdir('./cfg/temp0922/kari/dataset_detection/images/') if f.endswith('.jpg')]\n",
    "w_list = [f for f in os.listdir('./cfg/temp0922/backup/')]\n",
    "print(len(img_list))\n",
    "w_list"
   ]
  },
  {
   "cell_type": "code",
   "execution_count": 10,
   "metadata": {},
   "outputs": [
    {
     "name": "stdout",
     "output_type": "stream",
     "text": [
      "/Users/suzaki/Sotuken/face_picture_and_tempmap/darknet/cfg/temp0922/kari/dataset_detection/images/1596440552.jpg\n"
     ]
    },
    {
     "data": {
      "text/plain": [
       "<matplotlib.image.AxesImage at 0x11b7da8d0>"
      ]
     },
     "execution_count": 10,
     "metadata": {},
     "output_type": "execute_result"
    },
    {
     "data": {
      "image/png": "[encoded data removed]",
      "text/plain": [
       "<Figure size 432x288 with 1 Axes>"
      ]
     },
     "metadata": {
      "needs_background": "light"
     },
     "output_type": "display_data"
    }
   ],
   "source": [
    "imageName = img_list[40]\n",
    "imageName = '1596440552.jpg'\n",
    "imagePath = '/Users/suzaki/Sotuken/face_picture_and_tempmap/darknet/cfg/temp0922/kari/dataset_detection/images/' + imageName\n",
    "print(imagePath)\n",
    "plt.imshow(cv2.cvtColor(cv2.imread(imagePath), cv2.COLOR_BGR2RGB))"
   ]
  },
  {
   "cell_type": "code",
   "execution_count": 11,
   "metadata": {},
   "outputs": [
    {
     "name": "stdout",
     "output_type": "stream",
     "text": [
      "[(b'people', 0.9993701577186584, (29.136871337890625, 41.19721984863281, 48.68771743774414, 47.85627365112305))]\n"
     ]
    },
    {
     "data": {
      "image/png": "[encoded data removed]",
      "text/plain": [
       "<Figure size 432x288 with 1 Axes>"
      ]
     },
     "metadata": {
      "needs_background": "light"
     },
     "output_type": "display_data"
    }
   ],
   "source": [
    "cfg = './cfg/temp0922/yolov3-temp0925.cfg'\n",
    "weights = '/Users/suzaki/Sotuken/face_picture_and_tempmap/darknet/cfg/temp0922/backup/yolov3-temp0925_33000.weights'\n",
    "data = './cfg/temp0922/datasets.data'\n",
    "boxes = darknet.detect_box(cfg.encode(), weights.encode(), data.encode(), imagePath.encode())\n",
    "print(boxes)\n",
    "\n",
    "disp_box(imagePath, boxes)"
   ]
  },
  {
   "cell_type": "code",
   "execution_count": null,
   "metadata": {},
   "outputs": [],
   "source": []
  },
  {
   "cell_type": "code",
   "execution_count": null,
   "metadata": {},
   "outputs": [],
   "source": []
  },
  {
   "cell_type": "code",
   "execution_count": null,
   "metadata": {},
   "outputs": [],
   "source": []
  },
  {
   "cell_type": "code",
   "execution_count": null,
   "metadata": {},
   "outputs": [],
   "source": []
  }
 ],
 "metadata": {
  "kernelspec": {
   "display_name": "Python 3",
   "language": "python",
   "name": "python3"
  },
  "language_info": {
   "codemirror_mode": {
    "name": "ipython",
    "version": 3
   },
   "file_extension": ".py",
   "mimetype": "text/x-python",
   "name": "python",
   "nbconvert_exporter": "python",
   "pygments_lexer": "ipython3",
   "version": "3.7.3"
  }
 },
 "nbformat": 4,
 "nbformat_minor": 4
}
