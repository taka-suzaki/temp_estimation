{
 "cells": [
  {
   "cell_type": "code",
   "execution_count": 31,
   "metadata": {},
   "outputs": [
    {
     "data": {
      "text/plain": [
       "'/Users/suzaki/Sotuken/face_picture_and_tempmap/darknet'"
      ]
     },
     "execution_count": 31,
     "metadata": {},
     "output_type": "execute_result"
    }
   ],
   "source": [
    "import os\n",
    "import cv2\n",
    "import matplotlib.pyplot as plt\n",
    "%matplotlib inline\n",
    "%pwd"
   ]
  },
  {
   "cell_type": "code",
   "execution_count": 44,
   "metadata": {},
   "outputs": [
    {
     "name": "stdout",
     "output_type": "stream",
     "text": [
      "1578\n"
     ]
    },
    {
     "data": {
      "text/plain": [
       "['yolov3-temp0925_33000.weights',\n",
       " 'yolov3-voc_100.weights',\n",
       " 'yolov3-temp0925_10000.weights',\n",
       " 'yolov3-voc_700.weights',\n",
       " 'yolov3-voc_600.weights',\n",
       " 'yolov3-voc_300.weights',\n",
       " 'yolov3-voc_800.weights',\n",
       " 'yolov3-voc.backup',\n",
       " 'yolov3-voc_500.weights',\n",
       " 'yolov3-voc_200.weights',\n",
       " 'yolov3-voc_900.weights',\n",
       " 'yolov3-voc_400.weights']"
      ]
     },
     "execution_count": 44,
     "metadata": {},
     "output_type": "execute_result"
    }
   ],
   "source": [
    "img_list = [f for f in os.listdir('./cfg/temp0922/kari/dataset_detection/images/') if f.endswith('.jpg')]\n",
    "w_list = [f for f in os.listdir('./cfg/temp0922/backup/') ]\n",
    "print(len(img_list))\n",
    "w_list"
   ]
  },
  {
   "cell_type": "code",
   "execution_count": 99,
   "metadata": {},
   "outputs": [],
   "source": [
    "imageName = img_list[300]\n",
    "# imageName = '1598611023.jpg'\n",
    "imagePath = '/Users/suzaki/Sotuken/face_picture_and_tempmap/darknet/cfg/temp0922/datasets/' + imageName\n",
    "imagePath = '/Users/suzaki/Sotuken/face_picture_and_tempmap/darknet/cfg/temp0922/kari/dataset_detection/images/' +imageName\n",
    "a = ! ./darknet detector test ./cfg/temp0922/datasets.data ./cfg/temp0922/yolov3-temp0925.cfg /Users/suzaki/Sotuken/face_picture_and_tempmap/darknet/cfg/temp0922/backup/yolov3-temp0925_33000.weights $imagePath -dontshow -ext_output -thresh 0.5"
   ]
  },
  {
   "cell_type": "code",
   "execution_count": 100,
   "metadata": {},
   "outputs": [
    {
     "data": {
      "text/plain": [
       "<matplotlib.image.AxesImage at 0x12518ab00>"
      ]
     },
     "execution_count": 100,
     "metadata": {},
     "output_type": "execute_result"
    },
    {
     "data": {
      "image/png": "[encoded data removed]",
      "text/plain": [
       "<Figure size 432x288 with 1 Axes>"
      ]
     },
     "metadata": {
      "needs_background": "light"
     },
     "output_type": "display_data"
    }
   ],
   "source": [
    "pred = cv2.cvtColor(cv2.imread('predictions.jpg'), cv2.COLOR_BGR2RGB)\n",
    "plt.imshow(pred)"
   ]
  },
  {
   "cell_type": "code",
   "execution_count": null,
   "metadata": {},
   "outputs": [],
   "source": [
    "# ! ./darknet detector test ./cfg/temp0922/datasets.data ./cfg/temp0922/yolov3-voc.cfg /Users/suzaki/Sotuken/face_picture_and_tempmap/darknet/cfg/temp0922/backup/yolov3-voc_800.weights /Users/suzaki/Sotuken/face_picture_and_tempmap/darknet/cfg/temp0922/datasets/1598608331.jpg -thresh 0.01"
   ]
  },
  {
   "cell_type": "code",
   "execution_count": 101,
   "metadata": {},
   "outputs": [
    {
     "data": {
      "text/plain": [
       "['layer     filters    size              input                output',\n",
       " '    0 conv     32  3 x 3 / 1    64 x  64 x   3   ->    64 x  64 x  32  0.007 BFLOPs',\n",
       " '    1 conv     64  3 x 3 / 2    64 x  64 x  32   ->    32 x  32 x  64  0.038 BFLOPs',\n",
       " '    2 conv     32  1 x 1 / 1    32 x  32 x  64   ->    32 x  32 x  32  0.004 BFLOPs',\n",
       " '    3 conv     64  3 x 3 / 1    32 x  32 x  32   ->    32 x  32 x  64  0.038 BFLOPs',\n",
       " '    4 res    1                  32 x  32 x  64   ->    32 x  32 x  64',\n",
       " '    5 conv    128  3 x 3 / 2    32 x  32 x  64   ->    16 x  16 x 128  0.038 BFLOPs',\n",
       " '    6 conv     64  1 x 1 / 1    16 x  16 x 128   ->    16 x  16 x  64  0.004 BFLOPs',\n",
       " '    7 conv    128  3 x 3 / 1    16 x  16 x  64   ->    16 x  16 x 128  0.038 BFLOPs',\n",
       " '    8 res    5                  16 x  16 x 128   ->    16 x  16 x 128',\n",
       " '    9 conv     64  1 x 1 / 1    16 x  16 x 128   ->    16 x  16 x  64  0.004 BFLOPs',\n",
       " '   10 conv    128  3 x 3 / 1    16 x  16 x  64   ->    16 x  16 x 128  0.038 BFLOPs',\n",
       " '   11 res    8                  16 x  16 x 128   ->    16 x  16 x 128',\n",
       " '   12 conv    256  3 x 3 / 2    16 x  16 x 128   ->     8 x   8 x 256  0.038 BFLOPs',\n",
       " '   13 conv    128  1 x 1 / 1     8 x   8 x 256   ->     8 x   8 x 128  0.004 BFLOPs',\n",
       " '   14 conv    256  3 x 3 / 1     8 x   8 x 128   ->     8 x   8 x 256  0.038 BFLOPs',\n",
       " '   15 res   12                   8 x   8 x 256   ->     8 x   8 x 256',\n",
       " '   16 conv    128  1 x 1 / 1     8 x   8 x 256   ->     8 x   8 x 128  0.004 BFLOPs',\n",
       " '   17 conv    256  3 x 3 / 1     8 x   8 x 128   ->     8 x   8 x 256  0.038 BFLOPs',\n",
       " '   18 res   15                   8 x   8 x 256   ->     8 x   8 x 256',\n",
       " '   19 conv    128  1 x 1 / 1     8 x   8 x 256   ->     8 x   8 x 128  0.004 BFLOPs',\n",
       " '   20 conv    256  3 x 3 / 1     8 x   8 x 128   ->     8 x   8 x 256  0.038 BFLOPs',\n",
       " '   21 res   18                   8 x   8 x 256   ->     8 x   8 x 256',\n",
       " '   22 conv    128  1 x 1 / 1     8 x   8 x 256   ->     8 x   8 x 128  0.004 BFLOPs',\n",
       " '   23 conv    256  3 x 3 / 1     8 x   8 x 128   ->     8 x   8 x 256  0.038 BFLOPs',\n",
       " '   24 res   21                   8 x   8 x 256   ->     8 x   8 x 256',\n",
       " '   25 conv    128  1 x 1 / 1     8 x   8 x 256   ->     8 x   8 x 128  0.004 BFLOPs',\n",
       " '   26 conv    256  3 x 3 / 1     8 x   8 x 128   ->     8 x   8 x 256  0.038 BFLOPs',\n",
       " '   27 res   24                   8 x   8 x 256   ->     8 x   8 x 256',\n",
       " '   28 conv    128  1 x 1 / 1     8 x   8 x 256   ->     8 x   8 x 128  0.004 BFLOPs',\n",
       " '   29 conv    256  3 x 3 / 1     8 x   8 x 128   ->     8 x   8 x 256  0.038 BFLOPs',\n",
       " '   30 res   27                   8 x   8 x 256   ->     8 x   8 x 256',\n",
       " '   31 conv    128  1 x 1 / 1     8 x   8 x 256   ->     8 x   8 x 128  0.004 BFLOPs',\n",
       " '   32 conv    256  3 x 3 / 1     8 x   8 x 128   ->     8 x   8 x 256  0.038 BFLOPs',\n",
       " '   33 res   30                   8 x   8 x 256   ->     8 x   8 x 256',\n",
       " '   34 conv    128  1 x 1 / 1     8 x   8 x 256   ->     8 x   8 x 128  0.004 BFLOPs',\n",
       " '   35 conv    256  3 x 3 / 1     8 x   8 x 128   ->     8 x   8 x 256  0.038 BFLOPs',\n",
       " '   36 res   33                   8 x   8 x 256   ->     8 x   8 x 256',\n",
       " '   37 conv    512  3 x 3 / 2     8 x   8 x 256   ->     4 x   4 x 512  0.038 BFLOPs',\n",
       " '   38 conv    256  1 x 1 / 1     4 x   4 x 512   ->     4 x   4 x 256  0.004 BFLOPs',\n",
       " '   39 conv    512  3 x 3 / 1     4 x   4 x 256   ->     4 x   4 x 512  0.038 BFLOPs',\n",
       " '   40 res   37                   4 x   4 x 512   ->     4 x   4 x 512',\n",
       " '   41 conv    256  1 x 1 / 1     4 x   4 x 512   ->     4 x   4 x 256  0.004 BFLOPs',\n",
       " '   42 conv    512  3 x 3 / 1     4 x   4 x 256   ->     4 x   4 x 512  0.038 BFLOPs',\n",
       " '   43 res   40                   4 x   4 x 512   ->     4 x   4 x 512',\n",
       " '   44 conv    256  1 x 1 / 1     4 x   4 x 512   ->     4 x   4 x 256  0.004 BFLOPs',\n",
       " '   45 conv    512  3 x 3 / 1     4 x   4 x 256   ->     4 x   4 x 512  0.038 BFLOPs',\n",
       " '   46 res   43                   4 x   4 x 512   ->     4 x   4 x 512',\n",
       " '   47 conv    256  1 x 1 / 1     4 x   4 x 512   ->     4 x   4 x 256  0.004 BFLOPs',\n",
       " '   48 conv    512  3 x 3 / 1     4 x   4 x 256   ->     4 x   4 x 512  0.038 BFLOPs',\n",
       " '   49 res   46                   4 x   4 x 512   ->     4 x   4 x 512',\n",
       " '   50 conv    256  1 x 1 / 1     4 x   4 x 512   ->     4 x   4 x 256  0.004 BFLOPs',\n",
       " '   51 conv    512  3 x 3 / 1     4 x   4 x 256   ->     4 x   4 x 512  0.038 BFLOPs',\n",
       " '   52 res   49                   4 x   4 x 512   ->     4 x   4 x 512',\n",
       " '   53 conv    256  1 x 1 / 1     4 x   4 x 512   ->     4 x   4 x 256  0.004 BFLOPs',\n",
       " '   54 conv    512  3 x 3 / 1     4 x   4 x 256   ->     4 x   4 x 512  0.038 BFLOPs',\n",
       " '   55 res   52                   4 x   4 x 512   ->     4 x   4 x 512',\n",
       " '   56 conv    256  1 x 1 / 1     4 x   4 x 512   ->     4 x   4 x 256  0.004 BFLOPs',\n",
       " '   57 conv    512  3 x 3 / 1     4 x   4 x 256   ->     4 x   4 x 512  0.038 BFLOPs',\n",
       " '   58 res   55                   4 x   4 x 512   ->     4 x   4 x 512',\n",
       " '   59 conv    256  1 x 1 / 1     4 x   4 x 512   ->     4 x   4 x 256  0.004 BFLOPs',\n",
       " '   60 conv    512  3 x 3 / 1     4 x   4 x 256   ->     4 x   4 x 512  0.038 BFLOPs',\n",
       " '   61 res   58                   4 x   4 x 512   ->     4 x   4 x 512',\n",
       " '   62 conv   1024  3 x 3 / 2     4 x   4 x 512   ->     2 x   2 x1024  0.038 BFLOPs',\n",
       " '   63 conv    512  1 x 1 / 1     2 x   2 x1024   ->     2 x   2 x 512  0.004 BFLOPs',\n",
       " '   64 conv   1024  3 x 3 / 1     2 x   2 x 512   ->     2 x   2 x1024  0.038 BFLOPs',\n",
       " '   65 res   62                   2 x   2 x1024   ->     2 x   2 x1024',\n",
       " '   66 conv    512  1 x 1 / 1     2 x   2 x1024   ->     2 x   2 x 512  0.004 BFLOPs',\n",
       " '   67 conv   1024  3 x 3 / 1     2 x   2 x 512   ->     2 x   2 x1024  0.038 BFLOPs',\n",
       " '   68 res   65                   2 x   2 x1024   ->     2 x   2 x1024',\n",
       " '   69 conv    512  1 x 1 / 1     2 x   2 x1024   ->     2 x   2 x 512  0.004 BFLOPs',\n",
       " '   70 conv   1024  3 x 3 / 1     2 x   2 x 512   ->     2 x   2 x1024  0.038 BFLOPs',\n",
       " '   71 res   68                   2 x   2 x1024   ->     2 x   2 x1024',\n",
       " '   72 conv    512  1 x 1 / 1     2 x   2 x1024   ->     2 x   2 x 512  0.004 BFLOPs',\n",
       " '   73 conv   1024  3 x 3 / 1     2 x   2 x 512   ->     2 x   2 x1024  0.038 BFLOPs',\n",
       " '   74 res   71                   2 x   2 x1024   ->     2 x   2 x1024',\n",
       " '   75 conv    512  1 x 1 / 1     2 x   2 x1024   ->     2 x   2 x 512  0.004 BFLOPs',\n",
       " '   76 conv   1024  3 x 3 / 1     2 x   2 x 512   ->     2 x   2 x1024  0.038 BFLOPs',\n",
       " '   77 conv    512  1 x 1 / 1     2 x   2 x1024   ->     2 x   2 x 512  0.004 BFLOPs',\n",
       " '   78 conv   1024  3 x 3 / 1     2 x   2 x 512   ->     2 x   2 x1024  0.038 BFLOPs',\n",
       " '   79 conv    512  1 x 1 / 1     2 x   2 x1024   ->     2 x   2 x 512  0.004 BFLOPs',\n",
       " '   80 conv   1024  3 x 3 / 1     2 x   2 x 512   ->     2 x   2 x1024  0.038 BFLOPs',\n",
       " '   81 conv     18  1 x 1 / 1     2 x   2 x1024   ->     2 x   2 x  18  0.000 BFLOPs',\n",
       " '   82 yolo',\n",
       " '   83 route  79',\n",
       " '   84 conv    256  1 x 1 / 1     2 x   2 x 512   ->     2 x   2 x 256  0.001 BFLOPs',\n",
       " '   85 upsample            2x     2 x   2 x 256   ->     4 x   4 x 256',\n",
       " '   86 route  85 61',\n",
       " '   87 conv    256  1 x 1 / 1     4 x   4 x 768   ->     4 x   4 x 256  0.006 BFLOPs',\n",
       " '   88 conv    512  3 x 3 / 1     4 x   4 x 256   ->     4 x   4 x 512  0.038 BFLOPs',\n",
       " '   89 conv    256  1 x 1 / 1     4 x   4 x 512   ->     4 x   4 x 256  0.004 BFLOPs',\n",
       " '   90 conv    512  3 x 3 / 1     4 x   4 x 256   ->     4 x   4 x 512  0.038 BFLOPs',\n",
       " '   91 conv    256  1 x 1 / 1     4 x   4 x 512   ->     4 x   4 x 256  0.004 BFLOPs',\n",
       " '   92 conv    512  3 x 3 / 1     4 x   4 x 256   ->     4 x   4 x 512  0.038 BFLOPs',\n",
       " '   93 conv     18  1 x 1 / 1     4 x   4 x 512   ->     4 x   4 x  18  0.000 BFLOPs',\n",
       " '   94 yolo',\n",
       " '   95 route  91',\n",
       " '   96 conv    128  1 x 1 / 1     4 x   4 x 256   ->     4 x   4 x 128  0.001 BFLOPs',\n",
       " '   97 upsample            2x     4 x   4 x 128   ->     8 x   8 x 128',\n",
       " '   98 route  97 36',\n",
       " '   99 conv    128  1 x 1 / 1     8 x   8 x 384   ->     8 x   8 x 128  0.006 BFLOPs',\n",
       " '  100 conv    256  3 x 3 / 1     8 x   8 x 128   ->     8 x   8 x 256  0.038 BFLOPs',\n",
       " '  101 conv    128  1 x 1 / 1     8 x   8 x 256   ->     8 x   8 x 128  0.004 BFLOPs',\n",
       " '  102 conv    256  3 x 3 / 1     8 x   8 x 128   ->     8 x   8 x 256  0.038 BFLOPs',\n",
       " '  103 conv    128  1 x 1 / 1     8 x   8 x 256   ->     8 x   8 x 128  0.004 BFLOPs',\n",
       " '  104 conv    256  3 x 3 / 1     8 x   8 x 128   ->     8 x   8 x 256  0.038 BFLOPs',\n",
       " '  105 conv     18  1 x 1 / 1     8 x   8 x 256   ->     8 x   8 x  18  0.001 BFLOPs',\n",
       " '  106 yolo',\n",
       " 'Loading weights from /Users/suzaki/Sotuken/face_picture_and_tempmap/darknet/cfg/temp0922/backup/yolov3-temp0925_33000.weights...Done!',\n",
       " '/Users/suzaki/Sotuken/face_picture_and_tempmap/darknet/cfg/temp0922/kari/dataset_detection/images/1598608478.jpg: Predicted in 0.252351 seconds.',\n",
       " 'people: 100%']"
      ]
     },
     "execution_count": 101,
     "metadata": {},
     "output_type": "execute_result"
    }
   ],
   "source": [
    "a"
   ]
  },
  {
   "cell_type": "code",
   "execution_count": 102,
   "metadata": {},
   "outputs": [],
   "source": [
    "# ! ./darknet detect  ./cfg/temp0922/yolov3-voc.cfg /Users/suzaki/Sotuken/face_picture_and_tempmap/darknet/cfg/temp0922/backup/yolov3-voc_900.weights /Users/suzaki/Sotuken/face_picture_and_tempmap/darknet/cfg/temp0922/datasets/1598607199.jpg\n"
   ]
  },
  {
   "cell_type": "code",
   "execution_count": 98,
   "metadata": {},
   "outputs": [
    {
     "name": "stdout",
     "output_type": "stream",
     "text": [
      "usage: ./darknet detector [train/test/valid] [cfg] [weights (optional)]\r\n"
     ]
    }
   ],
   "source": [
    "! ./darknet detector  --help"
   ]
  },
  {
   "cell_type": "code",
   "execution_count": 103,
   "metadata": {},
   "outputs": [
    {
     "name": "stdout",
     "output_type": "stream",
     "text": [
      "/bin/sh: ./image_yolov3.sh: No such file or directory\r\n"
     ]
    }
   ],
   "source": [
    "! ./image_yolov3.sh"
   ]
  },
  {
   "cell_type": "code",
   "execution_count": 127,
   "metadata": {},
   "outputs": [
    {
     "ename": "SyntaxError",
     "evalue": "Missing parentheses in call to 'print'. Did you mean print(r)? (darknet.py, line 160)",
     "output_type": "error",
     "traceback": [
      "Traceback \u001b[0;36m(most recent call last)\u001b[0m:\n",
      "  File \u001b[1;32m\"/Users/suzaki/Library/Python/3.7/lib/python/site-packages/IPython/core/interactiveshell.py\"\u001b[0m, line \u001b[1;32m3331\u001b[0m, in \u001b[1;35mrun_code\u001b[0m\n    exec(code_obj, self.user_global_ns, self.user_ns)\n",
      "\u001b[0;36m  File \u001b[0;32m\"<ipython-input-127-f60dcba81d77>\"\u001b[0;36m, line \u001b[0;32m1\u001b[0;36m, in \u001b[0;35m<module>\u001b[0;36m\u001b[0m\n\u001b[0;31m    import darknet\u001b[0m\n",
      "\u001b[0;36m  File \u001b[0;32m\"/Users/suzaki/Sotuken/face_picture_and_tempmap/darknet/darknet.py\"\u001b[0;36m, line \u001b[0;32m160\u001b[0m\n\u001b[0;31m    print r\u001b[0m\n\u001b[0m          ^\u001b[0m\n\u001b[0;31mSyntaxError\u001b[0m\u001b[0;31m:\u001b[0m Missing parentheses in call to 'print'. Did you mean print(r)?\n"
     ]
    }
   ],
   "source": [
    "import darknet"
   ]
  },
  {
   "cell_type": "code",
   "execution_count": 123,
   "metadata": {},
   "outputs": [
    {
     "ename": "AttributeError",
     "evalue": "module 'python.darknet' has no attribute 'detect_box'",
     "output_type": "error",
     "traceback": [
      "\u001b[0;31m---------------------------------------------------------------------------\u001b[0m",
      "\u001b[0;31mAttributeError\u001b[0m                            Traceback (most recent call last)",
      "\u001b[0;32m<ipython-input-123-c32146be717d>\u001b[0m in \u001b[0;36m<module>\u001b[0;34m\u001b[0m\n\u001b[0;32m----> 1\u001b[0;31m \u001b[0mdarknet\u001b[0m\u001b[0;34m.\u001b[0m\u001b[0mdetect_box\u001b[0m\u001b[0;34m(\u001b[0m\u001b[0;34m)\u001b[0m\u001b[0;34m\u001b[0m\u001b[0;34m\u001b[0m\u001b[0m\n\u001b[0m",
      "\u001b[0;31mAttributeError\u001b[0m: module 'python.darknet' has no attribute 'detect_box'"
     ]
    }
   ],
   "source": [
    "\n",
    "darknet.detect_box()"
   ]
  },
  {
   "cell_type": "code",
   "execution_count": null,
   "metadata": {},
   "outputs": [],
   "source": []
  }
 ],
 "metadata": {
  "kernelspec": {
   "display_name": "Python 3",
   "language": "python",
   "name": "python3"
  },
  "language_info": {
   "codemirror_mode": {
    "name": "ipython",
    "version": 3
   },
   "file_extension": ".py",
   "mimetype": "text/x-python",
   "name": "python",
   "nbconvert_exporter": "python",
   "pygments_lexer": "ipython3",
   "version": "3.7.3"
  }
 },
 "nbformat": 4,
 "nbformat_minor": 4
}
