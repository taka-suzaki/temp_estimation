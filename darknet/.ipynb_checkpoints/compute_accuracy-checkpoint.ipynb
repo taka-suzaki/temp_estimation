{
 "cells": [
  {
   "cell_type": "code",
   "execution_count": null,
   "metadata": {},
   "outputs": [],
   "source": [
    "import pandas as pd\n",
    "import darknet\n",
    "import numpy as np\n",
    "import cv2\n",
    "import matplotlib.pyplot as plt\n",
    "%matplotlib inline"
   ]
  },
  {
   "cell_type": "code",
   "execution_count": 2,
   "metadata": {},
   "outputs": [
    {
     "name": "stdout",
     "output_type": "stream",
     "text": [
      "0.3333333432674408\n"
     ]
    }
   ],
   "source": [
    "def save_boxImage(imagePath, boxes, path):\n",
    "    cfg = './cfg/temp0922/yolov3-temp0925.cfg'\n",
    "    weights = '/Users/suzaki/Sotuken/face_picture_and_tempmap/darknet/cfg/temp0922/backup/yolov3-temp0925_33000.weights'\n",
    "    data = './cfg/temp0922/datasets.data'\n",
    "    \n",
    "    img = cv2.cvtColor(cv2.imread(imagePath), cv2.COLOR_BGR2RGB)\n",
    "    for b in boxes:\n",
    "        box = b[2]\n",
    "        if b[1] > 0.8:\n",
    "            center = (int(box[0]), int(box[1]))\n",
    "            width = int(box[2])\n",
    "            height = int(box[3])\n",
    "\n",
    "            top_left = (center[0]-(width//2), center[1]-(height//2))\n",
    "            btm_right = (center[0]+(width//2), center[1]+(height//2))\n",
    "\n",
    "        #     top_left = (int(box[0]), int(box[1]))\n",
    "        #     btm_right = (int(box[0]+box[2]), int(box[1]+box[3]))\n",
    "            img = cv2.rectangle(img,top_left,btm_right,(0,255,0),1)\n",
    "        cv2.imwrite(path, img)\n",
    "\n",
    "def compute_mean_iou(y_pred, y_true):\n",
    "    mean_iou = []\n",
    "    for i in range(y_pred.shape[0]):\n",
    "        area_a = (y_pred[i][2] - y_pred[i][0]) * (y_pred[i][3] - y_pred[i][1])\n",
    "        area_b = (y_true[i][2] - y_true[i][0]) * (y_true[i][3] - y_true[i][1])\n",
    "        iou_x1 = np.maximum(y_pred[i][0], y_true[i][0])\n",
    "        iou_y1 = np.maximum(y_pred[i][1], y_true[i][1])\n",
    "        iou_x2 = np.minimum(y_pred[i][2], y_true[i][2])\n",
    "        iou_y2 = np.minimum(y_pred[i][3], y_true[i][3])\n",
    "        iou_w = iou_x2 - iou_x1\n",
    "        iou_h = iou_y2 - iou_y1\n",
    "        if iou_w < 0 or iou_h < 0:\n",
    "            mean_iou.append(0.0)\n",
    "        else: \n",
    "            area_iou = iou_w * iou_h\n",
    "            iou = area_iou / (area_a + area_b - area_iou)\n",
    "            mean_iou.append(iou)\n",
    "        return sum(mean_iou)/len(mean_iou)\n",
    "\n",
    "# [x1, y1, x2, y2]\n",
    "a = np.array(([[0, 0, 1, 3],[0, 0, 1, 3]]), dtype=np.float32)\n",
    "\n",
    "b = np.array(([[0, 0, 1, 1],[0, 0, 1, 1]]), dtype=np.float32)\n",
    "print(compute_mean_iou(a, b))"
   ]
  },
  {
   "cell_type": "code",
   "execution_count": 3,
   "metadata": {},
   "outputs": [
    {
     "name": "stdout",
     "output_type": "stream",
     "text": [
      "1148\n"
     ]
    },
    {
     "data": {
      "text/html": [
       "<div>\n",
       "<style scoped>\n",
       "    .dataframe tbody tr th:only-of-type {\n",
       "        vertical-align: middle;\n",
       "    }\n",
       "\n",
       "    .dataframe tbody tr th {\n",
       "        vertical-align: top;\n",
       "    }\n",
       "\n",
       "    .dataframe thead th {\n",
       "        text-align: right;\n",
       "    }\n",
       "</style>\n",
       "<table border=\"1\" class=\"dataframe\">\n",
       "  <thead>\n",
       "    <tr style=\"text-align: right;\">\n",
       "      <th></th>\n",
       "      <th>filename</th>\n",
       "      <th>class</th>\n",
       "      <th>box1</th>\n",
       "      <th>box2</th>\n",
       "      <th>box3</th>\n",
       "      <th>box4</th>\n",
       "    </tr>\n",
       "  </thead>\n",
       "  <tbody>\n",
       "    <tr>\n",
       "      <th>0</th>\n",
       "      <td>1598605729</td>\n",
       "      <td>15</td>\n",
       "      <td>0.414062</td>\n",
       "      <td>0.515625</td>\n",
       "      <td>0.484375</td>\n",
       "      <td>0.500000</td>\n",
       "    </tr>\n",
       "    <tr>\n",
       "      <th>1</th>\n",
       "      <td>1598606220</td>\n",
       "      <td>15</td>\n",
       "      <td>0.703125</td>\n",
       "      <td>0.695312</td>\n",
       "      <td>0.437500</td>\n",
       "      <td>0.609375</td>\n",
       "    </tr>\n",
       "    <tr>\n",
       "      <th>2</th>\n",
       "      <td>1598609675</td>\n",
       "      <td>15</td>\n",
       "      <td>0.640625</td>\n",
       "      <td>0.625000</td>\n",
       "      <td>0.531250</td>\n",
       "      <td>0.531250</td>\n",
       "    </tr>\n",
       "    <tr>\n",
       "      <th>3</th>\n",
       "      <td>1598606234</td>\n",
       "      <td>15</td>\n",
       "      <td>0.687500</td>\n",
       "      <td>0.695312</td>\n",
       "      <td>0.531250</td>\n",
       "      <td>0.609375</td>\n",
       "    </tr>\n",
       "    <tr>\n",
       "      <th>4</th>\n",
       "      <td>1598607102</td>\n",
       "      <td>15</td>\n",
       "      <td>0.382812</td>\n",
       "      <td>0.710938</td>\n",
       "      <td>0.484375</td>\n",
       "      <td>0.515625</td>\n",
       "    </tr>\n",
       "  </tbody>\n",
       "</table>\n",
       "</div>"
      ],
      "text/plain": [
       "     filename  class      box1      box2      box3      box4\n",
       "0  1598605729     15  0.414062  0.515625  0.484375  0.500000\n",
       "1  1598606220     15  0.703125  0.695312  0.437500  0.609375\n",
       "2  1598609675     15  0.640625  0.625000  0.531250  0.531250\n",
       "3  1598606234     15  0.687500  0.695312  0.531250  0.609375\n",
       "4  1598607102     15  0.382812  0.710938  0.484375  0.515625"
      ]
     },
     "execution_count": 3,
     "metadata": {},
     "output_type": "execute_result"
    }
   ],
   "source": [
    "answer_df = pd.read_csv('./csv/annotation.csv')\n",
    "print(len(answer_df))\n",
    "answer_df.head()"
   ]
  },
  {
   "cell_type": "code",
   "execution_count": 4,
   "metadata": {},
   "outputs": [
    {
     "data": {
      "text/html": [
       "<div>\n",
       "<style scoped>\n",
       "    .dataframe tbody tr th:only-of-type {\n",
       "        vertical-align: middle;\n",
       "    }\n",
       "\n",
       "    .dataframe tbody tr th {\n",
       "        vertical-align: top;\n",
       "    }\n",
       "\n",
       "    .dataframe thead th {\n",
       "        text-align: right;\n",
       "    }\n",
       "</style>\n",
       "<table border=\"1\" class=\"dataframe\">\n",
       "  <thead>\n",
       "    <tr style=\"text-align: right;\">\n",
       "      <th></th>\n",
       "      <th>filename</th>\n",
       "      <th>class</th>\n",
       "      <th>box1</th>\n",
       "      <th>box2</th>\n",
       "      <th>box3</th>\n",
       "      <th>box4</th>\n",
       "      <th>ans</th>\n",
       "    </tr>\n",
       "  </thead>\n",
       "  <tbody>\n",
       "    <tr>\n",
       "      <th>0</th>\n",
       "      <td>1598605729</td>\n",
       "      <td>15</td>\n",
       "      <td>0.414062</td>\n",
       "      <td>0.515625</td>\n",
       "      <td>0.484375</td>\n",
       "      <td>0.500000</td>\n",
       "      <td>(0.414062, 0.515625, 0.484375, 0.5)</td>\n",
       "    </tr>\n",
       "    <tr>\n",
       "      <th>1</th>\n",
       "      <td>1598606220</td>\n",
       "      <td>15</td>\n",
       "      <td>0.703125</td>\n",
       "      <td>0.695312</td>\n",
       "      <td>0.437500</td>\n",
       "      <td>0.609375</td>\n",
       "      <td>(0.703125, 0.695312, 0.4375, 0.609375)</td>\n",
       "    </tr>\n",
       "    <tr>\n",
       "      <th>2</th>\n",
       "      <td>1598609675</td>\n",
       "      <td>15</td>\n",
       "      <td>0.640625</td>\n",
       "      <td>0.625000</td>\n",
       "      <td>0.531250</td>\n",
       "      <td>0.531250</td>\n",
       "      <td>(0.640625, 0.625, 0.53125, 0.53125)</td>\n",
       "    </tr>\n",
       "    <tr>\n",
       "      <th>3</th>\n",
       "      <td>1598606234</td>\n",
       "      <td>15</td>\n",
       "      <td>0.687500</td>\n",
       "      <td>0.695312</td>\n",
       "      <td>0.531250</td>\n",
       "      <td>0.609375</td>\n",
       "      <td>(0.6875, 0.695312, 0.53125, 0.609375)</td>\n",
       "    </tr>\n",
       "    <tr>\n",
       "      <th>4</th>\n",
       "      <td>1598607102</td>\n",
       "      <td>15</td>\n",
       "      <td>0.382812</td>\n",
       "      <td>0.710938</td>\n",
       "      <td>0.484375</td>\n",
       "      <td>0.515625</td>\n",
       "      <td>(0.382812, 0.710938, 0.484375, 0.515625)</td>\n",
       "    </tr>\n",
       "  </tbody>\n",
       "</table>\n",
       "</div>"
      ],
      "text/plain": [
       "     filename  class      box1      box2      box3      box4  \\\n",
       "0  1598605729     15  0.414062  0.515625  0.484375  0.500000   \n",
       "1  1598606220     15  0.703125  0.695312  0.437500  0.609375   \n",
       "2  1598609675     15  0.640625  0.625000  0.531250  0.531250   \n",
       "3  1598606234     15  0.687500  0.695312  0.531250  0.609375   \n",
       "4  1598607102     15  0.382812  0.710938  0.484375  0.515625   \n",
       "\n",
       "                                        ans  \n",
       "0       (0.414062, 0.515625, 0.484375, 0.5)  \n",
       "1    (0.703125, 0.695312, 0.4375, 0.609375)  \n",
       "2       (0.640625, 0.625, 0.53125, 0.53125)  \n",
       "3     (0.6875, 0.695312, 0.53125, 0.609375)  \n",
       "4  (0.382812, 0.710938, 0.484375, 0.515625)  "
      ]
     },
     "execution_count": 4,
     "metadata": {},
     "output_type": "execute_result"
    }
   ],
   "source": [
    "answer_df[\"ans\"] = answer_df.apply(lambda t: (t.box1, t.box2, t.box3, t.box4), axis=1)\n",
    "answer_df.head()"
   ]
  },
  {
   "cell_type": "code",
   "execution_count": 5,
   "metadata": {},
   "outputs": [
    {
     "name": "stdout",
     "output_type": "stream",
     "text": [
      "115 1598605200\n"
     ]
    }
   ],
   "source": [
    "test_dir = './cfg/temp0922/kari/dataset_detection/images/'\n",
    "testpath = './cfg/temp0922/temp0925/test.txt'\n",
    "test_list = []\n",
    "with open(testpath) as f:\n",
    "    data = f.read().splitlines()\n",
    "    test_list = [d.split(\"/\")[-1].split('.jpg')[0] for d in data ]\n",
    "    \n",
    "print(len(test_list), test_list[0])"
   ]
  },
  {
   "cell_type": "code",
   "execution_count": 6,
   "metadata": {},
   "outputs": [
    {
     "name": "stdout",
     "output_type": "stream",
     "text": [
      "115\n"
     ]
    },
    {
     "data": {
      "text/html": [
       "<div>\n",
       "<style scoped>\n",
       "    .dataframe tbody tr th:only-of-type {\n",
       "        vertical-align: middle;\n",
       "    }\n",
       "\n",
       "    .dataframe tbody tr th {\n",
       "        vertical-align: top;\n",
       "    }\n",
       "\n",
       "    .dataframe thead th {\n",
       "        text-align: right;\n",
       "    }\n",
       "</style>\n",
       "<table border=\"1\" class=\"dataframe\">\n",
       "  <thead>\n",
       "    <tr style=\"text-align: right;\">\n",
       "      <th></th>\n",
       "      <th>filename</th>\n",
       "      <th>class</th>\n",
       "      <th>box1</th>\n",
       "      <th>box2</th>\n",
       "      <th>box3</th>\n",
       "      <th>box4</th>\n",
       "      <th>ans</th>\n",
       "    </tr>\n",
       "  </thead>\n",
       "  <tbody>\n",
       "    <tr>\n",
       "      <th>0</th>\n",
       "      <td>1598605729</td>\n",
       "      <td>15</td>\n",
       "      <td>0.414062</td>\n",
       "      <td>0.515625</td>\n",
       "      <td>0.484375</td>\n",
       "      <td>0.500000</td>\n",
       "      <td>(0.414062, 0.515625, 0.484375, 0.5)</td>\n",
       "    </tr>\n",
       "    <tr>\n",
       "      <th>1</th>\n",
       "      <td>1598607664</td>\n",
       "      <td>15</td>\n",
       "      <td>0.726562</td>\n",
       "      <td>0.617188</td>\n",
       "      <td>0.515625</td>\n",
       "      <td>0.546875</td>\n",
       "      <td>(0.726562, 0.617188, 0.515625, 0.546875)</td>\n",
       "    </tr>\n",
       "    <tr>\n",
       "      <th>2</th>\n",
       "      <td>1598607116</td>\n",
       "      <td>15</td>\n",
       "      <td>0.695312</td>\n",
       "      <td>0.671875</td>\n",
       "      <td>0.515625</td>\n",
       "      <td>0.531250</td>\n",
       "      <td>(0.695312, 0.671875, 0.515625, 0.53125)</td>\n",
       "    </tr>\n",
       "    <tr>\n",
       "      <th>3</th>\n",
       "      <td>1598608755</td>\n",
       "      <td>15</td>\n",
       "      <td>0.593750</td>\n",
       "      <td>0.656250</td>\n",
       "      <td>0.531250</td>\n",
       "      <td>0.562500</td>\n",
       "      <td>(0.59375, 0.65625, 0.53125, 0.5625)</td>\n",
       "    </tr>\n",
       "    <tr>\n",
       "      <th>4</th>\n",
       "      <td>1598608741</td>\n",
       "      <td>15</td>\n",
       "      <td>0.445312</td>\n",
       "      <td>0.640625</td>\n",
       "      <td>0.609375</td>\n",
       "      <td>0.593750</td>\n",
       "      <td>(0.445312, 0.640625, 0.609375, 0.59375)</td>\n",
       "    </tr>\n",
       "  </tbody>\n",
       "</table>\n",
       "</div>"
      ],
      "text/plain": [
       "     filename  class      box1      box2      box3      box4  \\\n",
       "0  1598605729     15  0.414062  0.515625  0.484375  0.500000   \n",
       "1  1598607664     15  0.726562  0.617188  0.515625  0.546875   \n",
       "2  1598607116     15  0.695312  0.671875  0.515625  0.531250   \n",
       "3  1598608755     15  0.593750  0.656250  0.531250  0.562500   \n",
       "4  1598608741     15  0.445312  0.640625  0.609375  0.593750   \n",
       "\n",
       "                                        ans  \n",
       "0       (0.414062, 0.515625, 0.484375, 0.5)  \n",
       "1  (0.726562, 0.617188, 0.515625, 0.546875)  \n",
       "2   (0.695312, 0.671875, 0.515625, 0.53125)  \n",
       "3       (0.59375, 0.65625, 0.53125, 0.5625)  \n",
       "4   (0.445312, 0.640625, 0.609375, 0.59375)  "
      ]
     },
     "execution_count": 6,
     "metadata": {},
     "output_type": "execute_result"
    }
   ],
   "source": [
    "answer_df2 = answer_df[answer_df[\"filename\"].isin(test_list)].reset_index(drop=True)\n",
    "print(len(answer_df2))\n",
    "answer_df2.head()\n"
   ]
  },
  {
   "cell_type": "code",
   "execution_count": null,
   "metadata": {},
   "outputs": [],
   "source": [
    "cfg = './cfg/temp0922/yolov3-temp0925.cfg'\n",
    "weights = '/Users/suzaki/Sotuken/face_picture_and_tempmap/darknet/cfg/temp0922/backup/yolov3-temp0925_33000.weights'\n",
    "data = './cfg/temp0922/datasets.data'\n",
    "\n",
    "bbox_list = []\n",
    "for test in test_list:\n",
    "    testPath = test_dir+test+'.jpg'\n",
    "    boxes = darknet.detect_box(cfg.encode(), weights.encode(), data.encode(), testPath.encode())\n",
    "    bbox_list.append(boxes)\n",
    "        \n",
    "print(bbox_list[:5])"
   ]
  },
  {
   "cell_type": "code",
   "execution_count": 79,
   "metadata": {},
   "outputs": [
    {
     "name": "stdout",
     "output_type": "stream",
     "text": [
      "1598605200\n",
      "(0.617188, 0.734375, 0.578125, 0.53125)\n",
      "(39.500032, 47.0, 37.0, 34.0)\n"
     ]
    },
    {
     "data": {
      "text/plain": [
       "<matplotlib.image.AxesImage at 0x120fee2e8>"
      ]
     },
     "execution_count": 79,
     "metadata": {},
     "output_type": "execute_result"
    },
    {
     "data": {
      "image/png": "[encoded data removed]",
      "text/plain": [
       "<Figure size 432x288 with 1 Axes>"
      ]
     },
     "metadata": {
      "needs_background": "light"
     },
     "output_type": "display_data"
    }
   ],
   "source": [
    "img= cv2.cvtColor(cv2.imread(test_dir+test_list[0]+'.jpg'), cv2.COLOR_BGR2RGB)\n",
    "print(test_list[0])\n",
    "box = answer_df2[answer_df2[\"filename\"] == int(test_list[0])].ans\n",
    "box = box.iloc[0]\n",
    "print(box)\n",
    "box = (box[0]*64, box[1]*64, box[2]*64, box[3]*64)\n",
    "print(box)\n",
    "\n",
    "center = (int(box[0]), int(box[1]))\n",
    "width = int(box[2])\n",
    "height = int(box[3])\n",
    "\n",
    "top_left = (center[0]-(width//2), center[1]-(height//2))\n",
    "btm_right = (center[0]+(width//2), center[1]+(height//2))\n",
    "\n",
    "img = cv2.rectangle(img,top_left,btm_right,(0,255,0),1)\n",
    "plt.imshow(img)"
   ]
  },
  {
   "cell_type": "code",
   "execution_count": null,
   "metadata": {},
   "outputs": [],
   "source": []
  }
 ],
 "metadata": {
  "kernelspec": {
   "display_name": "Python 3",
   "language": "python",
   "name": "python3"
  },
  "language_info": {
   "codemirror_mode": {
    "name": "ipython",
    "version": 3
   },
   "file_extension": ".py",
   "mimetype": "text/x-python",
   "name": "python",
   "nbconvert_exporter": "python",
   "pygments_lexer": "ipython3",
   "version": "3.7.3"
  }
 },
 "nbformat": 4,
 "nbformat_minor": 4
}
